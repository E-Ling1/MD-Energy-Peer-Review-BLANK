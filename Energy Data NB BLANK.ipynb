{
 "cells": [
  {
   "cell_type": "code",
   "execution_count": null,
   "id": "446a937a",
   "metadata": {},
   "outputs": [],
   "source": [
    "#Import modules\n",
    "import numpy as np\n",
    "import matplotlib.pyplot as plt\n",
    "import pandas as pd\n",
    "import matplotlib\n",
    "%matplotlib inline\n",
    "import matplotlib.pyplot as plt"
   ]
  },
  {
   "cell_type": "markdown",
   "id": "b6aa8c8d",
   "metadata": {},
   "source": [
    "## 1. Data"
   ]
  },
  {
   "cell_type": "markdown",
   "id": "53ebfbf5",
   "metadata": {},
   "source": [
    "In the cell(s) below, import the CSVs as Pandas dataframes, then modify them so that the years become the index and the fuel sources become the column names. If you want to get an idea of what the final dataframes should look like, reference the answer sheet in the \"Answers\" folder. If you are stuck, visit <a href=\"https://github.com/Theling1/MD-Energy-Peer-Review\">this repository</a> to see how I did this notebook.\n"
   ]
  },
  {
   "cell_type": "code",
   "execution_count": null,
   "id": "6108de83",
   "metadata": {},
   "outputs": [],
   "source": [
    "residential = \n",
    "\n",
    "commercial = \n",
    "\n",
    "industrial = \n",
    "\n",
    "transportation = \n",
    "\n",
    "electricity = "
   ]
  },
  {
   "cell_type": "markdown",
   "id": "2dd12273",
   "metadata": {},
   "source": [
    "Print out the first 5 lines of each dataframe:"
   ]
  },
  {
   "cell_type": "code",
   "execution_count": null,
   "id": "9f00c4ab",
   "metadata": {},
   "outputs": [],
   "source": []
  },
  {
   "cell_type": "markdown",
   "id": "7ee0087e",
   "metadata": {},
   "source": [
    "## 2. Graphing"
   ]
  },
  {
   "cell_type": "markdown",
   "id": "f2c598dc",
   "metadata": {},
   "source": [
    "In the cells below, create line plots of each of the dataframes, with the year as the independent variable and the carbon emissions (in million tons of CO2) as the dependent variable. Each graph should consist of 3 different lines, one for each fuel source."
   ]
  },
  {
   "cell_type": "code",
   "execution_count": null,
   "id": "171332cd",
   "metadata": {},
   "outputs": [],
   "source": []
  },
  {
   "cell_type": "code",
   "execution_count": null,
   "id": "7732003b",
   "metadata": {},
   "outputs": [],
   "source": []
  },
  {
   "cell_type": "code",
   "execution_count": null,
   "id": "5bf92f24",
   "metadata": {},
   "outputs": [],
   "source": []
  },
  {
   "cell_type": "code",
   "execution_count": null,
   "id": "8553d88e",
   "metadata": {},
   "outputs": [],
   "source": []
  },
  {
   "cell_type": "code",
   "execution_count": null,
   "id": "c4a17c95",
   "metadata": {},
   "outputs": [],
   "source": []
  },
  {
   "cell_type": "markdown",
   "id": "79cfd747",
   "metadata": {},
   "source": [
    "#### Analysis:\n",
    "What are your thoughts on what these graphs represent?\n"
   ]
  },
  {
   "cell_type": "markdown",
   "id": "3e1d2bae",
   "metadata": {},
   "source": [
    "In the next cell, create a single graph plotting the total emissions of each sector over time. There should be 5 lines, one for each sector."
   ]
  },
  {
   "cell_type": "code",
   "execution_count": null,
   "id": "d34cce5d",
   "metadata": {},
   "outputs": [],
   "source": []
  },
  {
   "cell_type": "markdown",
   "id": "5fbe3ea5",
   "metadata": {},
   "source": [
    "#### Analysis:\n",
    "What are your thoughts on what this graph represents?\n"
   ]
  },
  {
   "cell_type": "markdown",
   "id": "1656318d",
   "metadata": {},
   "source": [
    "To aid in seeing how each sector and fuel source has contributed to carbon emissions in the past 50 years, use the cell below to calculate and print out the mean yearly emissions of each sector as well as the mean yearly emissions of each fuel source."
   ]
  },
  {
   "cell_type": "code",
   "execution_count": null,
   "id": "4669fc02",
   "metadata": {},
   "outputs": [],
   "source": []
  },
  {
   "cell_type": "markdown",
   "id": "1b316034",
   "metadata": {},
   "source": [
    "Finally, create a single line plot of the total emissions of all sectors in Maryland."
   ]
  },
  {
   "cell_type": "code",
   "execution_count": null,
   "id": "72a5eb3c",
   "metadata": {},
   "outputs": [],
   "source": []
  },
  {
   "cell_type": "markdown",
   "id": "7d979b81",
   "metadata": {},
   "source": [
    "## 3. Final Analysis"
   ]
  },
  {
   "cell_type": "markdown",
   "id": "53374039",
   "metadata": {},
   "source": [
    "What are some overall takeaways on Maryland's fossil fuel emissions situation you gained from working with and visualizing the data? Is there any sort of action or area Maryland is doing well in? Where they can improve sustainability?"
   ]
  },
  {
   "cell_type": "markdown",
   "id": "63e1d8be",
   "metadata": {},
   "source": []
  },
  {
   "cell_type": "markdown",
   "id": "aaa41ee6",
   "metadata": {},
   "source": [
    "### References\n",
    "This data was taken from the Maryland dataset of the 2019 Energy-Related CO2 Emission Data Tables released on April 13, 2022 by the US Energy Information Administration. The original dataset was split into five different csv files, each with one sector.\n",
    "\n",
    "The dataset can be found at https://www.eia.gov/environment/emissions/state/."
   ]
  }
 ],
 "metadata": {
  "kernelspec": {
   "display_name": "Python 3 (ipykernel)",
   "language": "python",
   "name": "python3"
  },
  "language_info": {
   "codemirror_mode": {
    "name": "ipython",
    "version": 3
   },
   "file_extension": ".py",
   "mimetype": "text/x-python",
   "name": "python",
   "nbconvert_exporter": "python",
   "pygments_lexer": "ipython3",
   "version": "3.9.12"
  }
 },
 "nbformat": 4,
 "nbformat_minor": 5
}
